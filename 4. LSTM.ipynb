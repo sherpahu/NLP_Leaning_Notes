{
 "cells": [
  {
   "cell_type": "code",
   "execution_count": 2,
   "metadata": {},
   "outputs": [
    {
     "name": "stdout",
     "output_type": "stream",
     "text": [
      "Model: \"sequential_1\"\n",
      "_________________________________________________________________\n",
      "Layer (type)                 Output Shape              Param #   \n",
      "=================================================================\n",
      "embedding (Embedding)        (None, 500, 32)           320000    \n",
      "_________________________________________________________________\n",
      "lstm (LSTM)                  (None, 32)                8320      \n",
      "_________________________________________________________________\n",
      "dense (Dense)                (None, 1)                 33        \n",
      "=================================================================\n",
      "Total params: 328,353\n",
      "Trainable params: 328,353\n",
      "Non-trainable params: 0\n",
      "_________________________________________________________________\n",
      "Epoch 1/5\n",
      "196/196 [==============================] - 11s 45ms/step - loss: 0.5811 - accuracy: 0.6739 - val_loss: 0.3500 - val_accuracy: 0.8532\n",
      "Epoch 2/5\n",
      "196/196 [==============================] - 9s 44ms/step - loss: 0.2928 - accuracy: 0.8834 - val_loss: 0.3224 - val_accuracy: 0.8641\n",
      "Epoch 3/5\n",
      "196/196 [==============================] - 9s 44ms/step - loss: 0.2139 - accuracy: 0.9212 - val_loss: 0.3614 - val_accuracy: 0.8652\n",
      "Epoch 4/5\n",
      "196/196 [==============================] - 9s 44ms/step - loss: 0.1700 - accuracy: 0.9394 - val_loss: 0.3358 - val_accuracy: 0.8732\n",
      "Epoch 5/5\n",
      "196/196 [==============================] - 9s 44ms/step - loss: 0.1265 - accuracy: 0.9582 - val_loss: 0.3461 - val_accuracy: 0.8689\n",
      "782/782 [==============================] - 6s 8ms/step - loss: 0.3461 - accuracy: 0.8689\n",
      "Loss:0.35, Accuracy:0.87\n"
     ]
    }
   ],
   "source": [
    "from keras.datasets import imdb\n",
    "from keras.models import Sequential\n",
    "from keras.layers import Dense, Flatten\n",
    "from keras.layers.embeddings import Embedding\n",
    "from keras.layers.recurrent import LSTM\n",
    "from keras.preprocessing import sequence\n",
    "\n",
    "# load data and Set the number of words we want\n",
    "vocabulary=10000\n",
    "embedding_dim=32\n",
    "word_num=500\n",
    "state_dim=32\n",
    "\n",
    "# Load data and target vector from movie review data\n",
    "(X_train, y_train), (X_test, y_test) = imdb.load_data(num_words=vocabulary)\n",
    "'''\n",
    "print(); print(X_train.shape); print(X_train)\n",
    "print(); print(y_train.shape); print(y_train)\n",
    "print(); print(X_test.shape);  print(X_test)\n",
    "print(); print(y_test.shape);  print(y_test)\n",
    "'''\n",
    "# Convert movie review data to feature matrix\n",
    "X_train = sequence.pad_sequences(X_train, maxlen=word_num)\n",
    "#print(); print(X_train.shape); print(X_train)\n",
    "\n",
    "X_test = sequence.pad_sequences(X_test, maxlen=word_num)\n",
    "#print(); print(X_test.shape);  print(X_test)\n",
    "\n",
    "# setup a Simple RNN network\n",
    "model=Sequential()\n",
    "model.add(Embedding(vocabulary,embedding_dim,input_length=word_num))\n",
    "model.add(LSTM(state_dim,return_sequences=False))\n",
    "model.add(Dense(1, activation='sigmoid'))\n",
    "\n",
    "model.compile(loss='binary_crossentropy', optimizer='adam', metrics=['accuracy'])\n",
    "\n",
    "model.summary()\n",
    "\n",
    "# Fit the model\n",
    "model.fit(X_train, y_train, validation_data=(X_test, y_test), epochs=5, batch_size=128, verbose=1)\n",
    "\n",
    "# Final evaluation of the model\n",
    "loss,score = model.evaluate(X_test, y_test, verbose=1)\n",
    "print('Loss:%.2f, Accuracy:%.2f'%(loss,score))"
   ]
  },
  {
   "cell_type": "code",
   "execution_count": null,
   "metadata": {},
   "outputs": [],
   "source": []
  }
 ],
 "metadata": {
  "kernelspec": {
   "display_name": "Python 3",
   "language": "python",
   "name": "python3"
  },
  "language_info": {
   "codemirror_mode": {
    "name": "ipython",
    "version": 3
   },
   "file_extension": ".py",
   "mimetype": "text/x-python",
   "name": "python",
   "nbconvert_exporter": "python",
   "pygments_lexer": "ipython3",
   "version": "3.7.10"
  }
 },
 "nbformat": 4,
 "nbformat_minor": 2
}
